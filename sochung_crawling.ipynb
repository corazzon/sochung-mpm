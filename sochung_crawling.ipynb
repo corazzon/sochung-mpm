{
 "cells": [
  {
   "cell_type": "markdown",
   "metadata": {},
   "source": [
    "## 인사혁신처 소청사례\n",
    "* https://sochung.mpm.go.kr/home/user/board_list.do?PAGE_FLAG=EXSR&PAGE_MODE=LIST"
   ]
  },
  {
   "cell_type": "code",
   "execution_count": 1,
   "metadata": {},
   "outputs": [],
   "source": [
    "import requests\n",
    "from bs4 import BeautifulSoup as bs\n",
    "import pandas as pd"
   ]
  },
  {
   "cell_type": "markdown",
   "metadata": {},
   "source": [
    "## 크롤링할 URL"
   ]
  },
  {
   "cell_type": "code",
   "execution_count": 2,
   "metadata": {},
   "outputs": [],
   "source": [
    "url = \"https://sochung.mpm.go.kr/home/user/board_list.do?PAGE_FLAG=EXSR&PAGE_MODE=LIST\"\n",
    "params = \"&PAGE_INT=8&PAGE_SIZE=10&searchField=4&PAGE_BIDX=&PAGE_TMP3=&PAGE_TMP4=&PAGE_TMP5=&show_Flag=Y&searchWord=&PAGE_TMP1=&PAGE_SDATE=2010-01-01&PAGE_EDATE=2020-07-17&PAGE_MIDX=&PAGE_TMP2=\""
   ]
  },
  {
   "cell_type": "markdown",
   "metadata": {},
   "source": [
    "## 파라메터값 변경을 위해 dict 형태로 변경하기"
   ]
  },
  {
   "cell_type": "code",
   "execution_count": 3,
   "metadata": {},
   "outputs": [
    {
     "data": {
      "text/plain": [
       "{'PAGE_INT': '8',\n",
       " 'PAGE_SIZE': '10',\n",
       " 'searchField': '4',\n",
       " 'PAGE_BIDX': '',\n",
       " 'PAGE_TMP3': '',\n",
       " 'PAGE_TMP4': '',\n",
       " 'PAGE_TMP5': '',\n",
       " 'show_Flag': 'Y',\n",
       " 'searchWord': '',\n",
       " 'PAGE_TMP1': '',\n",
       " 'PAGE_SDATE': '2010-01-01',\n",
       " 'PAGE_EDATE': '2020-07-17',\n",
       " 'PAGE_MIDX': '',\n",
       " 'PAGE_TMP2': ''}"
      ]
     },
     "execution_count": 3,
     "metadata": {},
     "output_type": "execute_result"
    }
   ],
   "source": [
    "parameter = {}\n",
    "for p in params.split(\"&\")[1:]:\n",
    "    key = p.split(\"=\")[0]\n",
    "    val = p.split(\"=\")[1]\n",
    "    parameter[key] = val\n",
    "\n",
    "parameter"
   ]
  },
  {
   "cell_type": "markdown",
   "metadata": {},
   "source": [
    "## 전기간 검색을 위해 검색기간 초기화 하기"
   ]
  },
  {
   "cell_type": "code",
   "execution_count": null,
   "metadata": {},
   "outputs": [],
   "source": [
    "parameter[\"PAGE_SDATE\"] = ''\n",
    "parameter[\"PAGE_EDATE\"] = ''\n",
    "parameter"
   ]
  },
  {
   "cell_type": "markdown",
   "metadata": {},
   "source": [
    "## 상세내용 수집을 위한 링크 idx 수집"
   ]
  },
  {
   "cell_type": "code",
   "execution_count": 51,
   "metadata": {},
   "outputs": [],
   "source": [
    "def get_href_list(response):\n",
    "    html = bs(response.text)\n",
    "    href_list = []\n",
    "    a_tag = html.select(\"table.board-list > tbody > tr > td > a\")\n",
    "    for a in a_tag:\n",
    "        href_idx = a[\"href\"].split(\"IDX=\")[1].split(\"&\")[0]\n",
    "        href_list.append(href_idx)\n",
    "    return href_list"
   ]
  },
  {
   "cell_type": "markdown",
   "metadata": {},
   "source": [
    "## 데이터 수집"
   ]
  },
  {
   "cell_type": "code",
   "execution_count": 15,
   "metadata": {},
   "outputs": [],
   "source": [
    "import time \n",
    "import random\n",
    "page_list = []\n",
    "href_idx_list = []\n",
    "total_page = 497\n",
    "# total_page = 5\n",
    "for page_no in range(493, total_page+1):\n",
    "    time.sleep(random.randint(1, 2))\n",
    "    parameter[\"PAGE_INT\"] = page_no\n",
    "    response = requests.post(url, parameter)\n",
    "    if response.status_code == 200:\n",
    "        table = pd.read_html(response.text)\n",
    "        page_list.extend(table[1].values.tolist())\n",
    "        # 링크 idx 수집\n",
    "        idx_list = get_href_list(response)\n",
    "        href_idx_list.extend(idx_list)\n",
    "        if page_no % 10 == 0 :\n",
    "            print(page_no)"
   ]
  },
  {
   "cell_type": "markdown",
   "metadata": {},
   "source": [
    "### IDX 목록저장"
   ]
  },
  {
   "cell_type": "code",
   "execution_count": 62,
   "metadata": {},
   "outputs": [],
   "source": [
    "df_idx = pd.DataFrame(href_idx_list, columns=[\"idx\"])\n",
    "df_idx.to_csv(\"sochung_idx.csv\", index=False)"
   ]
  },
  {
   "cell_type": "code",
   "execution_count": 63,
   "metadata": {},
   "outputs": [
    {
     "data": {
      "text/html": [
       "<div>\n",
       "<style scoped>\n",
       "    .dataframe tbody tr th:only-of-type {\n",
       "        vertical-align: middle;\n",
       "    }\n",
       "\n",
       "    .dataframe tbody tr th {\n",
       "        vertical-align: top;\n",
       "    }\n",
       "\n",
       "    .dataframe thead th {\n",
       "        text-align: right;\n",
       "    }\n",
       "</style>\n",
       "<table border=\"1\" class=\"dataframe\">\n",
       "  <thead>\n",
       "    <tr style=\"text-align: right;\">\n",
       "      <th></th>\n",
       "      <th>idx</th>\n",
       "    </tr>\n",
       "  </thead>\n",
       "  <tbody>\n",
       "    <tr>\n",
       "      <th>0</th>\n",
       "      <td>5719868</td>\n",
       "    </tr>\n",
       "    <tr>\n",
       "      <th>1</th>\n",
       "      <td>5719539</td>\n",
       "    </tr>\n",
       "    <tr>\n",
       "      <th>2</th>\n",
       "      <td>5719526</td>\n",
       "    </tr>\n",
       "    <tr>\n",
       "      <th>3</th>\n",
       "      <td>5719523</td>\n",
       "    </tr>\n",
       "    <tr>\n",
       "      <th>4</th>\n",
       "      <td>5719518</td>\n",
       "    </tr>\n",
       "  </tbody>\n",
       "</table>\n",
       "</div>"
      ],
      "text/plain": [
       "       idx\n",
       "0  5719868\n",
       "1  5719539\n",
       "2  5719526\n",
       "3  5719523\n",
       "4  5719518"
      ]
     },
     "execution_count": 63,
     "metadata": {},
     "output_type": "execute_result"
    }
   ],
   "source": [
    "pd.read_csv(\"sochung_idx.csv\").head()"
   ]
  },
  {
   "cell_type": "markdown",
   "metadata": {},
   "source": [
    "### 소청목록 저장"
   ]
  },
  {
   "cell_type": "code",
   "execution_count": 16,
   "metadata": {},
   "outputs": [
    {
     "data": {
      "text/plain": [
       "[[19, 19980403, '해임', '지시명령위반', '기각', '1998-08-21'],\n",
       " [18, 19980402, '해임', '허위보고 및 지시', '감경', '1998-08-21'],\n",
       " [17, 19980401, '해임', '근무태만', '기각', '1998-08-21'],\n",
       " [16, 19980369, '견책', '직무태만(업무처리 소홀)', '취소', '1998-08-12'],\n",
       " [15, 19980356, '해임', '회계관련 물의', '기각', '1998-07-22'],\n",
       " [14, 19980333, '견책', '직무태만(업무처리 소홀)', '기각', '1998-07-15'],\n",
       " [13, 19980296, '견책', '직무태만(업무처리 소홀)', '기각', '1998-07-01'],\n",
       " [12, 19980294, '견책', '지시명령위반', '기각', '1998-07-08'],\n",
       " [11, 19980268, '정직3월', '회계관련 물의', '감경', '1998-06-22'],\n",
       " [10, 19980247, '견책', '근무태만', '기각', '1998-06-10'],\n",
       " [9, 19980228, '해임', '직무유기', '감경', '1998-06-03'],\n",
       " [8, 19980216, '해임', '근무태만', '감경', '1998-06-03'],\n",
       " [7, 19980166, '감봉1월', '허위보고 및 지시', '기각', '1998-05-01'],\n",
       " [6, 19980151, '해임', '도박행위', '감경', '1998-04-22'],\n",
       " [5, 19980143, '감봉2월', '사건묵살', '기각', '1998-04-24'],\n",
       " [4, 19980134, '직권면직', '근무태만', '기각', '1998-04-15'],\n",
       " [3, 19980100, '해임', '지시명령위반', '기각', '1998-04-08'],\n",
       " [2, 19980059, '견책', '근무태만', '기각', '1998-03-18'],\n",
       " [1, 19980001, '감봉3월', '직무태만(업무처리 소홀)', '기각', '1998-02-27']]"
      ]
     },
     "execution_count": 16,
     "metadata": {},
     "output_type": "execute_result"
    }
   ],
   "source": [
    "page_list"
   ]
  },
  {
   "cell_type": "code",
   "execution_count": 12,
   "metadata": {},
   "outputs": [
    {
     "name": "stdout",
     "output_type": "stream",
     "text": [
      "(0, 6)\n"
     ]
    },
    {
     "data": {
      "text/html": [
       "<div>\n",
       "<style scoped>\n",
       "    .dataframe tbody tr th:only-of-type {\n",
       "        vertical-align: middle;\n",
       "    }\n",
       "\n",
       "    .dataframe tbody tr th {\n",
       "        vertical-align: top;\n",
       "    }\n",
       "\n",
       "    .dataframe thead th {\n",
       "        text-align: right;\n",
       "    }\n",
       "</style>\n",
       "<table border=\"1\" class=\"dataframe\">\n",
       "  <thead>\n",
       "    <tr style=\"text-align: right;\">\n",
       "      <th></th>\n",
       "      <th>번호</th>\n",
       "      <th>사건번호</th>\n",
       "      <th>원처분</th>\n",
       "      <th>비위유형</th>\n",
       "      <th>결정유형</th>\n",
       "      <th>결정일자</th>\n",
       "    </tr>\n",
       "  </thead>\n",
       "  <tbody>\n",
       "  </tbody>\n",
       "</table>\n",
       "</div>"
      ],
      "text/plain": [
       "Empty DataFrame\n",
       "Columns: [번호, 사건번호, 원처분, 비위유형, 결정유형, 결정일자]\n",
       "Index: []"
      ]
     },
     "execution_count": 12,
     "metadata": {},
     "output_type": "execute_result"
    }
   ],
   "source": [
    "df = pd.DataFrame(page_list, columns=['번호', '사건번호', '원처분', '비위유형', '결정유형', '결정일자'])\n",
    "print(df.shape)\n",
    "df.head()"
   ]
  },
  {
   "cell_type": "code",
   "execution_count": 7,
   "metadata": {},
   "outputs": [
    {
     "data": {
      "text/html": [
       "<div>\n",
       "<style scoped>\n",
       "    .dataframe tbody tr th:only-of-type {\n",
       "        vertical-align: middle;\n",
       "    }\n",
       "\n",
       "    .dataframe tbody tr th {\n",
       "        vertical-align: top;\n",
       "    }\n",
       "\n",
       "    .dataframe thead th {\n",
       "        text-align: right;\n",
       "    }\n",
       "</style>\n",
       "<table border=\"1\" class=\"dataframe\">\n",
       "  <thead>\n",
       "    <tr style=\"text-align: right;\">\n",
       "      <th></th>\n",
       "      <th>번호</th>\n",
       "      <th>사건번호</th>\n",
       "      <th>원처분</th>\n",
       "      <th>비위유형</th>\n",
       "      <th>결정유형</th>\n",
       "      <th>결정일자</th>\n",
       "    </tr>\n",
       "  </thead>\n",
       "  <tbody>\n",
       "    <tr>\n",
       "      <th>4934</th>\n",
       "      <td>5</td>\n",
       "      <td>19980143</td>\n",
       "      <td>감봉2월</td>\n",
       "      <td>사건묵살</td>\n",
       "      <td>기각</td>\n",
       "      <td>1998-04-24</td>\n",
       "    </tr>\n",
       "    <tr>\n",
       "      <th>4935</th>\n",
       "      <td>4</td>\n",
       "      <td>19980134</td>\n",
       "      <td>직권면직</td>\n",
       "      <td>근무태만</td>\n",
       "      <td>기각</td>\n",
       "      <td>1998-04-15</td>\n",
       "    </tr>\n",
       "    <tr>\n",
       "      <th>4936</th>\n",
       "      <td>3</td>\n",
       "      <td>19980100</td>\n",
       "      <td>해임</td>\n",
       "      <td>지시명령위반</td>\n",
       "      <td>기각</td>\n",
       "      <td>1998-04-08</td>\n",
       "    </tr>\n",
       "    <tr>\n",
       "      <th>4937</th>\n",
       "      <td>2</td>\n",
       "      <td>19980059</td>\n",
       "      <td>견책</td>\n",
       "      <td>근무태만</td>\n",
       "      <td>기각</td>\n",
       "      <td>1998-03-18</td>\n",
       "    </tr>\n",
       "    <tr>\n",
       "      <th>4938</th>\n",
       "      <td>1</td>\n",
       "      <td>19980001</td>\n",
       "      <td>감봉3월</td>\n",
       "      <td>직무태만(업무처리 소홀)</td>\n",
       "      <td>기각</td>\n",
       "      <td>1998-02-27</td>\n",
       "    </tr>\n",
       "  </tbody>\n",
       "</table>\n",
       "</div>"
      ],
      "text/plain": [
       "      번호      사건번호   원처분           비위유형 결정유형        결정일자\n",
       "4934   5  19980143  감봉2월           사건묵살   기각  1998-04-24\n",
       "4935   4  19980134  직권면직           근무태만   기각  1998-04-15\n",
       "4936   3  19980100    해임         지시명령위반   기각  1998-04-08\n",
       "4937   2  19980059    견책           근무태만   기각  1998-03-18\n",
       "4938   1  19980001  감봉3월  직무태만(업무처리 소홀)   기각  1998-02-27"
      ]
     },
     "execution_count": 7,
     "metadata": {},
     "output_type": "execute_result"
    }
   ],
   "source": [
    "df.tail()"
   ]
  },
  {
   "cell_type": "code",
   "execution_count": 8,
   "metadata": {},
   "outputs": [],
   "source": [
    "df.to_csv(\"sochung_all.csv\", index=False)"
   ]
  },
  {
   "cell_type": "code",
   "execution_count": 9,
   "metadata": {},
   "outputs": [
    {
     "data": {
      "text/html": [
       "<div>\n",
       "<style scoped>\n",
       "    .dataframe tbody tr th:only-of-type {\n",
       "        vertical-align: middle;\n",
       "    }\n",
       "\n",
       "    .dataframe tbody tr th {\n",
       "        vertical-align: top;\n",
       "    }\n",
       "\n",
       "    .dataframe thead th {\n",
       "        text-align: right;\n",
       "    }\n",
       "</style>\n",
       "<table border=\"1\" class=\"dataframe\">\n",
       "  <thead>\n",
       "    <tr style=\"text-align: right;\">\n",
       "      <th></th>\n",
       "      <th>번호</th>\n",
       "      <th>사건번호</th>\n",
       "      <th>원처분</th>\n",
       "      <th>비위유형</th>\n",
       "      <th>결정유형</th>\n",
       "      <th>결정일자</th>\n",
       "    </tr>\n",
       "  </thead>\n",
       "  <tbody>\n",
       "    <tr>\n",
       "      <th>0</th>\n",
       "      <td>4939</td>\n",
       "      <td>20190660</td>\n",
       "      <td>해임</td>\n",
       "      <td>금품수수(향응수수)</td>\n",
       "      <td>감경</td>\n",
       "      <td>2020-01-16</td>\n",
       "    </tr>\n",
       "    <tr>\n",
       "      <th>1</th>\n",
       "      <td>4938</td>\n",
       "      <td>20190737</td>\n",
       "      <td>견책</td>\n",
       "      <td>품위손상</td>\n",
       "      <td>기각</td>\n",
       "      <td>2020-02-11</td>\n",
       "    </tr>\n",
       "    <tr>\n",
       "      <th>2</th>\n",
       "      <td>4937</td>\n",
       "      <td>20190718</td>\n",
       "      <td>견책</td>\n",
       "      <td>품위손상</td>\n",
       "      <td>감경</td>\n",
       "      <td>2020-02-04</td>\n",
       "    </tr>\n",
       "    <tr>\n",
       "      <th>3</th>\n",
       "      <td>4936</td>\n",
       "      <td>20190665</td>\n",
       "      <td>감봉1월</td>\n",
       "      <td>품위손상</td>\n",
       "      <td>감경</td>\n",
       "      <td>2020-01-09</td>\n",
       "    </tr>\n",
       "    <tr>\n",
       "      <th>4</th>\n",
       "      <td>4935</td>\n",
       "      <td>20190668</td>\n",
       "      <td>직권면직</td>\n",
       "      <td>기타</td>\n",
       "      <td>기각</td>\n",
       "      <td>2020-02-20</td>\n",
       "    </tr>\n",
       "    <tr>\n",
       "      <th>...</th>\n",
       "      <td>...</td>\n",
       "      <td>...</td>\n",
       "      <td>...</td>\n",
       "      <td>...</td>\n",
       "      <td>...</td>\n",
       "      <td>...</td>\n",
       "    </tr>\n",
       "    <tr>\n",
       "      <th>4934</th>\n",
       "      <td>5</td>\n",
       "      <td>19980143</td>\n",
       "      <td>감봉2월</td>\n",
       "      <td>사건묵살</td>\n",
       "      <td>기각</td>\n",
       "      <td>1998-04-24</td>\n",
       "    </tr>\n",
       "    <tr>\n",
       "      <th>4935</th>\n",
       "      <td>4</td>\n",
       "      <td>19980134</td>\n",
       "      <td>직권면직</td>\n",
       "      <td>근무태만</td>\n",
       "      <td>기각</td>\n",
       "      <td>1998-04-15</td>\n",
       "    </tr>\n",
       "    <tr>\n",
       "      <th>4936</th>\n",
       "      <td>3</td>\n",
       "      <td>19980100</td>\n",
       "      <td>해임</td>\n",
       "      <td>지시명령위반</td>\n",
       "      <td>기각</td>\n",
       "      <td>1998-04-08</td>\n",
       "    </tr>\n",
       "    <tr>\n",
       "      <th>4937</th>\n",
       "      <td>2</td>\n",
       "      <td>19980059</td>\n",
       "      <td>견책</td>\n",
       "      <td>근무태만</td>\n",
       "      <td>기각</td>\n",
       "      <td>1998-03-18</td>\n",
       "    </tr>\n",
       "    <tr>\n",
       "      <th>4938</th>\n",
       "      <td>1</td>\n",
       "      <td>19980001</td>\n",
       "      <td>감봉3월</td>\n",
       "      <td>직무태만(업무처리 소홀)</td>\n",
       "      <td>기각</td>\n",
       "      <td>1998-02-27</td>\n",
       "    </tr>\n",
       "  </tbody>\n",
       "</table>\n",
       "<p>4939 rows × 6 columns</p>\n",
       "</div>"
      ],
      "text/plain": [
       "        번호      사건번호   원처분           비위유형 결정유형        결정일자\n",
       "0     4939  20190660    해임     금품수수(향응수수)   감경  2020-01-16\n",
       "1     4938  20190737    견책           품위손상   기각  2020-02-11\n",
       "2     4937  20190718    견책           품위손상   감경  2020-02-04\n",
       "3     4936  20190665  감봉1월           품위손상   감경  2020-01-09\n",
       "4     4935  20190668  직권면직             기타   기각  2020-02-20\n",
       "...    ...       ...   ...            ...  ...         ...\n",
       "4934     5  19980143  감봉2월           사건묵살   기각  1998-04-24\n",
       "4935     4  19980134  직권면직           근무태만   기각  1998-04-15\n",
       "4936     3  19980100    해임         지시명령위반   기각  1998-04-08\n",
       "4937     2  19980059    견책           근무태만   기각  1998-03-18\n",
       "4938     1  19980001  감봉3월  직무태만(업무처리 소홀)   기각  1998-02-27\n",
       "\n",
       "[4939 rows x 6 columns]"
      ]
     },
     "execution_count": 9,
     "metadata": {},
     "output_type": "execute_result"
    }
   ],
   "source": [
    "pd.read_csv(\"sochung_all.csv\")"
   ]
  },
  {
   "cell_type": "code",
   "execution_count": null,
   "metadata": {},
   "outputs": [],
   "source": []
  }
 ],
 "metadata": {
  "kernelspec": {
   "display_name": "Python 3",
   "language": "python",
   "name": "python3"
  },
  "language_info": {
   "codemirror_mode": {
    "name": "ipython",
    "version": 3
   },
   "file_extension": ".py",
   "mimetype": "text/x-python",
   "name": "python",
   "nbconvert_exporter": "python",
   "pygments_lexer": "ipython3",
   "version": "3.7.6"
  },
  "toc": {
   "base_numbering": 1,
   "nav_menu": {},
   "number_sections": true,
   "sideBar": true,
   "skip_h1_title": false,
   "title_cell": "Table of Contents",
   "title_sidebar": "Contents",
   "toc_cell": false,
   "toc_position": {},
   "toc_section_display": true,
   "toc_window_display": false
  },
  "varInspector": {
   "cols": {
    "lenName": 16,
    "lenType": 16,
    "lenVar": 40
   },
   "kernels_config": {
    "python": {
     "delete_cmd_postfix": "",
     "delete_cmd_prefix": "del ",
     "library": "var_list.py",
     "varRefreshCmd": "print(var_dic_list())"
    },
    "r": {
     "delete_cmd_postfix": ") ",
     "delete_cmd_prefix": "rm(",
     "library": "var_list.r",
     "varRefreshCmd": "cat(var_dic_list()) "
    }
   },
   "types_to_exclude": [
    "module",
    "function",
    "builtin_function_or_method",
    "instance",
    "_Feature"
   ],
   "window_display": false
  }
 },
 "nbformat": 4,
 "nbformat_minor": 4
}
