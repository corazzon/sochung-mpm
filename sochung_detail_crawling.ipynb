{
 "cells": [
  {
   "cell_type": "code",
   "execution_count": 2,
   "metadata": {},
   "outputs": [],
   "source": [
    "import pandas as pd\n",
    "import requests"
   ]
  },
  {
   "cell_type": "code",
   "execution_count": 2,
   "metadata": {},
   "outputs": [
    {
     "name": "stdout",
     "output_type": "stream",
     "text": [
      "(4939, 1)\n"
     ]
    },
    {
     "data": {
      "text/html": [
       "<div>\n",
       "<style scoped>\n",
       "    .dataframe tbody tr th:only-of-type {\n",
       "        vertical-align: middle;\n",
       "    }\n",
       "\n",
       "    .dataframe tbody tr th {\n",
       "        vertical-align: top;\n",
       "    }\n",
       "\n",
       "    .dataframe thead th {\n",
       "        text-align: right;\n",
       "    }\n",
       "</style>\n",
       "<table border=\"1\" class=\"dataframe\">\n",
       "  <thead>\n",
       "    <tr style=\"text-align: right;\">\n",
       "      <th></th>\n",
       "      <th>idx</th>\n",
       "    </tr>\n",
       "  </thead>\n",
       "  <tbody>\n",
       "    <tr>\n",
       "      <th>0</th>\n",
       "      <td>5719868</td>\n",
       "    </tr>\n",
       "    <tr>\n",
       "      <th>1</th>\n",
       "      <td>5719539</td>\n",
       "    </tr>\n",
       "    <tr>\n",
       "      <th>2</th>\n",
       "      <td>5719526</td>\n",
       "    </tr>\n",
       "    <tr>\n",
       "      <th>3</th>\n",
       "      <td>5719523</td>\n",
       "    </tr>\n",
       "    <tr>\n",
       "      <th>4</th>\n",
       "      <td>5719518</td>\n",
       "    </tr>\n",
       "  </tbody>\n",
       "</table>\n",
       "</div>"
      ],
      "text/plain": [
       "       idx\n",
       "0  5719868\n",
       "1  5719539\n",
       "2  5719526\n",
       "3  5719523\n",
       "4  5719518"
      ]
     },
     "execution_count": 2,
     "metadata": {},
     "output_type": "execute_result"
    }
   ],
   "source": [
    "df = pd.read_csv(\"sochung_idx.csv\")\n",
    "print(df.shape)\n",
    "df.head()"
   ]
  },
  {
   "cell_type": "code",
   "execution_count": 3,
   "metadata": {},
   "outputs": [
    {
     "data": {
      "text/html": [
       "<div>\n",
       "<style scoped>\n",
       "    .dataframe tbody tr th:only-of-type {\n",
       "        vertical-align: middle;\n",
       "    }\n",
       "\n",
       "    .dataframe tbody tr th {\n",
       "        vertical-align: top;\n",
       "    }\n",
       "\n",
       "    .dataframe thead th {\n",
       "        text-align: right;\n",
       "    }\n",
       "</style>\n",
       "<table border=\"1\" class=\"dataframe\">\n",
       "  <thead>\n",
       "    <tr style=\"text-align: right;\">\n",
       "      <th></th>\n",
       "      <th>idx</th>\n",
       "    </tr>\n",
       "  </thead>\n",
       "  <tbody>\n",
       "    <tr>\n",
       "      <th>4934</th>\n",
       "      <td>1197</td>\n",
       "    </tr>\n",
       "    <tr>\n",
       "      <th>4935</th>\n",
       "      <td>1196</td>\n",
       "    </tr>\n",
       "    <tr>\n",
       "      <th>4936</th>\n",
       "      <td>1195</td>\n",
       "    </tr>\n",
       "    <tr>\n",
       "      <th>4937</th>\n",
       "      <td>1194</td>\n",
       "    </tr>\n",
       "    <tr>\n",
       "      <th>4938</th>\n",
       "      <td>1193</td>\n",
       "    </tr>\n",
       "  </tbody>\n",
       "</table>\n",
       "</div>"
      ],
      "text/plain": [
       "       idx\n",
       "4934  1197\n",
       "4935  1196\n",
       "4936  1195\n",
       "4937  1194\n",
       "4938  1193"
      ]
     },
     "execution_count": 3,
     "metadata": {},
     "output_type": "execute_result"
    }
   ],
   "source": [
    "df.tail()"
   ]
  },
  {
   "cell_type": "code",
   "execution_count": 4,
   "metadata": {},
   "outputs": [],
   "source": [
    "number_list = df[\"idx\"].tolist()"
   ]
  },
  {
   "cell_type": "code",
   "execution_count": 3,
   "metadata": {},
   "outputs": [],
   "source": [
    "# IDX = 3658341\n",
    "def request_page(IDX):\n",
    "    url = f\"https://sochung.mpm.go.kr/home/user/board_list.do?PAGE_FLAG=EXSR&PAGE_MODE=DETAIL&IDX={IDX}&PAGE_INT=145&PAGE_SIZE=10&searchField=4&searchWord=&PAGE_BIDX=&PAGE_MIDX=&PAGE_SIDX=&PAGE_TMP1=&PAGE_TMP2=&PAGE_TMP3=&PAGE_TMP4=&PAGE_TMP5=&PAGE_SDATE=&PAGE_EDATE=\"\n",
    "    table = pd.read_html(url)\n",
    "    return table[0]"
   ]
  },
  {
   "cell_type": "code",
   "execution_count": 5,
   "metadata": {},
   "outputs": [
    {
     "data": {
      "text/plain": [
       "\"교통사고 청탁 금품 받음(97-924 해임→기각) 사 건 : 97-924 해임 처분 취소 청구 소 청 인 : ○○경찰서 경장 김 모 피소청인 : ○○지방경찰청장 주 문  본 건 청구를 기각한다. 이 유 1. 징계처분 사유 요지  소청인은 78.9.1. 경찰공무원으로 임용되어 97.3.1부터 서울○○경찰서 ○○파출소에 근무하고 있는 자로서,  동경찰서 교통과 교통조사계 조사요원으로 근무하던 96.11.28. 04:20경 서울특별시 ○○구 ○○동 29의 76호 소재 정신병원앞 도로상에서 교통사고를 내고 도주한 교통사고 피의자 박 모(38세)의 교통사건을 처리하면서 97.2.19. ○○지방검찰청 ○○지청에 기소중지 의견으로 송치시킨 후 수배조치하고 97.3.1자로 동 경찰서 ○○파출소로 전출되었는데 같은 해 6.23.19:00경 이 모(43세)라는 사람이 소청인을 찾아와서 박 모로부터 사건 처리 위임을 받아 피해자인 김 모(29세)와는 합의를 보았으니 동 사건이 잘 처리하여 달라고 부탁을 하자, 소청인은 이 모에게 '지금 내가 교통사고 조사계에 근무하고 있지 않아 사건을 잘 처리하려면 현재 교통사고조사계에 근무하고 있는 다른 직원에게 한 다리를 건너 청탁을 하여야 하므로 몇십만원 가지고는 안 되고 100만원은 있어야 된다'라고 금품을 요구하는 등 가해자가 피해자와 합의만 보면 바로 해결될 사건을 마치 합의를 보더라도 구속이 되는 사건인 것처럼 겁을주어 소청인이 교통사고 피의자 박 모의 선배인 이 모로부터 금100만원을 받은 비위사실이 인정되고,  이와 같은 소청인의 행위는 국가공무원법 제56조(성실의무), 제58조(직장이탈금지), 제61조(청렴의무)를 위반한 것으로 같은법_제78조제1항 제1,2호의 징계사유에 해당되어 해임에 처한다는 것이다. 2. 소청이유 요지  소청인의 업무와는 관련이 없는 교통사고 사건을 잘 해결해 준다는 명목하에 전혀 알지 못하는 이 모로부터 97.6.25경 금100만원을 수수하였다 하여 해임처분을 받았으나, 이는 의욕저하, 우울감, 신체망상, 무감동 등이 동반된 심한 우울증을 앓고 있는 이 모의증세가 극도로 악화된 상태에서 97.8.28 ○○지방경찰청을 찾아가 소청인에게 금100만원을 제공하였다고 한 허위진술을 근거로 처분한 것으로 이 모가 허위진술 후 양심의 가책을 느껴 97.9.6 서울지방경찰청 감사실에 찾아가 허위진술 사실을 취소하려 하였음에도 사무실에 들어오지도 못하게 하여 97.9.9 자필해명서를 우송한 점, 97.9.25 소청인이 이 모를 서울○○경찰서에 무고로 고소하여 ○○경찰서에서 서울지방검찰청○○지청에 10.27 무고사건을 송치한 점등을 보더라도 소청인이 이 모로부터 금100만원을 받지 않았음을 알수 있는데도 이 모의 허위진술을 믿어 소청인을 해임처분함은 부당하다는 것이 다. 3. 증거 및 판단  소청인의 진술조서(97.9.18), 징계회의륵(97.9.24), 이 모 무고사건 송치서(97.10.27), 비위경찰관 조치지시(97.9.13), 교통사고접수처리대장(96.11.28), 처분청의 변명서(97.11.17) 등 일건 기록과 심사시 당사자의 진술에 의하면, 소청인은 이 모가 ○○지방검찰청에서 소청인에게 금품을 제공하였다고 한 진술은 우울증이 극도로 악화된 상태에서 허위진술한 것인데도, 소청인이 이 모로부터 금100만원을 받았다하여 해임처분함은 부당하다고 주장하고 있어, 살피건대,  이 모가 97.2월초순 일자미상경 ○○경찰서 교통사고조사반에 근무하던 소청인에게 사건 처리관계를 물어보니, 소청인이 이 모에게 교통사고 피의자 박 모가 피해자와 합의를 해도 기소중지가 되어있고 체포영장까지 발부되어 있어 구속이 될 것이나 잘 되는 방법이 있다라고 성명을 해 준 사실이 있다고 진술한 점, 이 모가 97.6.25경 소청인을 찾아가 박 모 관련 교통사건을 잘 해결해 달라고 부탁하자 소청인이 다시 이 모에게 내가 지금 그 자리에 있는것도 아니고 일을 잘 처리하더라도 한 다리를 건너야 하므로 몇십만원 가지고는 안 되겠고 100만원은 있어야 되겠다라고 진술한 점, 97.6.26. 20:00경 이 모가 경찰서로 오토바이를 타고 가서 서식을 가져와 작성요령을 알려주고 내일 ○○경찰서 사고조사반 최 모경사를 찾아가면 일을 처리해 줄 것이라고 하여 파출소 뭔 주차장에서 금100만원을 주고 돌아온 후 그 다음날 사고조사반 최 모를찾아가 사건을 마무리지었다고 진술한 점, 100만원을 제공하고서 지금에 와서 문제삼는 이유가 무엇이냐는 조사자의 질문에, 뭐 특별한 이유는 없고 합의만 보면 그냥 해결될 것을 마치 구속이 되는 것처럼 겁을 주어 돈을 맏은 것이라고 생각하니 억울한 생각이들어 서울지방경찰청 감찰계에 자진 방문하여 진정한 것이라고 진술한 점, 소청인의 심사시 주장한 바와 같이 소청인이 직접 오토바이를 타고 경찰서로 가서 합의서 양식을 가져와서 작성방법을 자세히 가르쳐 주었고 주차장에서 돈을 건네는 것을 거절한 것이 사실이라면 이 모가 소청인을 친절하고 강직한 모범경찰관으로 생각했어야 할 것인데 위와 같이 소청인을 진정한 점 등 여러 정황을 종합하여 볼 때, 소청인이 교통사고 피의자 박 모의 선배인 이영 모로부터 금100만원을 수수한 비위사실이 인정되고, 이와같은 소청인의 행위는 국가공무원법 제56조(성실의무), 제61조(청렴의무)를 위반한 것으로 같은 법 제78조 제1항 제1,2호의 징계사유에 해당되고, 징계양정에 대하여는, 경찰공무원징계령 제16조에 의거, 재직기간 19년1월동안 근무하여 오면서 경찰청장표장2회, 지방경찰청장표창 1회, 경찰서장표창 8회 총 11회의 표창을 수상한 점 등 정상을 참작하더라도, 본건 경찰 중점 정화대상 지정비위로서 범정부차원에서 척결하려는 주요 정책과제인 점 등을 비추어 볼 때, 원처분 상당의 징계책임을 면하기는 어렵다고 판단되어 주문과 같이 결정한다.\""
      ]
     },
     "execution_count": 5,
     "metadata": {},
     "output_type": "execute_result"
    }
   ],
   "source": [
    "request_page(1761).iloc[2, 0]"
   ]
  },
  {
   "cell_type": "code",
   "execution_count": 6,
   "metadata": {},
   "outputs": [],
   "source": [
    "def get_detail(table, num):\n",
    "    사건번호 = table.iloc[0, 1]\n",
    "    내용 = table.iloc[2, 0]\n",
    "\n",
    "    return [사건번호, 내용, num]"
   ]
  },
  {
   "cell_type": "code",
   "execution_count": 7,
   "metadata": {},
   "outputs": [
    {
     "name": "stderr",
     "output_type": "stream",
     "text": [
      "100%|██████████| 4939/4939 [1:03:05<00:00,  1.30it/s]\n"
     ]
    }
   ],
   "source": [
    "import time \n",
    "import random\n",
    "from tqdm import tqdm\n",
    "\n",
    "detail_list = []\n",
    "for num in tqdm(number_list):\n",
    "    time.sleep(random.uniform(0, 1))\n",
    "    table = request_page(num)\n",
    "    desc = get_detail(table, num)\n",
    "    detail_list.append(desc)"
   ]
  },
  {
   "cell_type": "code",
   "execution_count": 8,
   "metadata": {},
   "outputs": [],
   "source": [
    "df = pd.DataFrame(detail_list, columns=[\"사건번호\", \"내용\", \"IDX\"])"
   ]
  },
  {
   "cell_type": "code",
   "execution_count": 9,
   "metadata": {},
   "outputs": [],
   "source": [
    "df.to_csv(\"sochung_detail.csv\", index=False)"
   ]
  },
  {
   "cell_type": "code",
   "execution_count": 12,
   "metadata": {},
   "outputs": [
    {
     "data": {
      "text/html": [
       "<div>\n",
       "<style scoped>\n",
       "    .dataframe tbody tr th:only-of-type {\n",
       "        vertical-align: middle;\n",
       "    }\n",
       "\n",
       "    .dataframe tbody tr th {\n",
       "        vertical-align: top;\n",
       "    }\n",
       "\n",
       "    .dataframe thead th {\n",
       "        text-align: right;\n",
       "    }\n",
       "</style>\n",
       "<table border=\"1\" class=\"dataframe\">\n",
       "  <thead>\n",
       "    <tr style=\"text-align: right;\">\n",
       "      <th></th>\n",
       "      <th>사건번호</th>\n",
       "      <th>내용</th>\n",
       "      <th>IDX</th>\n",
       "    </tr>\n",
       "  </thead>\n",
       "  <tbody>\n",
       "    <tr>\n",
       "      <th>0</th>\n",
       "      <td>20190660</td>\n",
       "      <td>금품향응수수 (해임 → 강등) 1. 원처분 사유 요지  소청인은 자신의 지인인 A가...</td>\n",
       "      <td>5719868</td>\n",
       "    </tr>\n",
       "    <tr>\n",
       "      <th>1</th>\n",
       "      <td>20190737</td>\n",
       "      <td>폭력행위(일반), 부적절언행(욕설 등), 기타불이익처분 (견책, 전보 → 기각) 1...</td>\n",
       "      <td>5719539</td>\n",
       "    </tr>\n",
       "    <tr>\n",
       "      <th>2</th>\n",
       "      <td>20190718</td>\n",
       "      <td>폭력행위(일반) (견책 → 불문경고) 1. 원처분 사유 요지  소청인은 ’○○. ○...</td>\n",
       "      <td>5719526</td>\n",
       "    </tr>\n",
       "    <tr>\n",
       "      <th>3</th>\n",
       "      <td>20190665</td>\n",
       "      <td>품위손상 (감봉1월 → 견책) 1. 원처분 사유 요지  ’○○. ○. ○. ○○경 ...</td>\n",
       "      <td>5719523</td>\n",
       "    </tr>\n",
       "    <tr>\n",
       "      <th>4</th>\n",
       "      <td>20190668</td>\n",
       "      <td>기타불이익처분 (직권면직 → 기각) 1. 원처분 사유 요지  소청인은 ’1○. ○....</td>\n",
       "      <td>5719518</td>\n",
       "    </tr>\n",
       "  </tbody>\n",
       "</table>\n",
       "</div>"
      ],
      "text/plain": [
       "       사건번호                                                 내용      IDX\n",
       "0  20190660  금품향응수수 (해임 → 강등) 1. 원처분 사유 요지  소청인은 자신의 지인인 A가...  5719868\n",
       "1  20190737  폭력행위(일반), 부적절언행(욕설 등), 기타불이익처분 (견책, 전보 → 기각) 1...  5719539\n",
       "2  20190718  폭력행위(일반) (견책 → 불문경고) 1. 원처분 사유 요지  소청인은 ’○○. ○...  5719526\n",
       "3  20190665  품위손상 (감봉1월 → 견책) 1. 원처분 사유 요지  ’○○. ○. ○. ○○경 ...  5719523\n",
       "4  20190668  기타불이익처분 (직권면직 → 기각) 1. 원처분 사유 요지  소청인은 ’1○. ○....  5719518"
      ]
     },
     "execution_count": 12,
     "metadata": {},
     "output_type": "execute_result"
    }
   ],
   "source": [
    "df_detail = pd.read_csv(\"sochung_detail.csv\")\n",
    "df_detail.head()"
   ]
  },
  {
   "cell_type": "code",
   "execution_count": 13,
   "metadata": {},
   "outputs": [
    {
     "name": "stdout",
     "output_type": "stream",
     "text": [
      "(4939, 6)\n"
     ]
    },
    {
     "data": {
      "text/html": [
       "<div>\n",
       "<style scoped>\n",
       "    .dataframe tbody tr th:only-of-type {\n",
       "        vertical-align: middle;\n",
       "    }\n",
       "\n",
       "    .dataframe tbody tr th {\n",
       "        vertical-align: top;\n",
       "    }\n",
       "\n",
       "    .dataframe thead th {\n",
       "        text-align: right;\n",
       "    }\n",
       "</style>\n",
       "<table border=\"1\" class=\"dataframe\">\n",
       "  <thead>\n",
       "    <tr style=\"text-align: right;\">\n",
       "      <th></th>\n",
       "      <th>번호</th>\n",
       "      <th>사건번호</th>\n",
       "      <th>원처분</th>\n",
       "      <th>비위유형</th>\n",
       "      <th>결정유형</th>\n",
       "      <th>결정일자</th>\n",
       "    </tr>\n",
       "  </thead>\n",
       "  <tbody>\n",
       "    <tr>\n",
       "      <th>0</th>\n",
       "      <td>4939</td>\n",
       "      <td>20190660</td>\n",
       "      <td>해임</td>\n",
       "      <td>금품수수(향응수수)</td>\n",
       "      <td>감경</td>\n",
       "      <td>2020-01-16</td>\n",
       "    </tr>\n",
       "    <tr>\n",
       "      <th>1</th>\n",
       "      <td>4938</td>\n",
       "      <td>20190737</td>\n",
       "      <td>견책</td>\n",
       "      <td>품위손상</td>\n",
       "      <td>기각</td>\n",
       "      <td>2020-02-11</td>\n",
       "    </tr>\n",
       "    <tr>\n",
       "      <th>2</th>\n",
       "      <td>4937</td>\n",
       "      <td>20190718</td>\n",
       "      <td>견책</td>\n",
       "      <td>품위손상</td>\n",
       "      <td>감경</td>\n",
       "      <td>2020-02-04</td>\n",
       "    </tr>\n",
       "    <tr>\n",
       "      <th>3</th>\n",
       "      <td>4936</td>\n",
       "      <td>20190665</td>\n",
       "      <td>감봉1월</td>\n",
       "      <td>품위손상</td>\n",
       "      <td>감경</td>\n",
       "      <td>2020-01-09</td>\n",
       "    </tr>\n",
       "    <tr>\n",
       "      <th>4</th>\n",
       "      <td>4935</td>\n",
       "      <td>20190668</td>\n",
       "      <td>직권면직</td>\n",
       "      <td>기타</td>\n",
       "      <td>기각</td>\n",
       "      <td>2020-02-20</td>\n",
       "    </tr>\n",
       "  </tbody>\n",
       "</table>\n",
       "</div>"
      ],
      "text/plain": [
       "     번호      사건번호   원처분        비위유형 결정유형        결정일자\n",
       "0  4939  20190660    해임  금품수수(향응수수)   감경  2020-01-16\n",
       "1  4938  20190737    견책        품위손상   기각  2020-02-11\n",
       "2  4937  20190718    견책        품위손상   감경  2020-02-04\n",
       "3  4936  20190665  감봉1월        품위손상   감경  2020-01-09\n",
       "4  4935  20190668  직권면직          기타   기각  2020-02-20"
      ]
     },
     "execution_count": 13,
     "metadata": {},
     "output_type": "execute_result"
    }
   ],
   "source": [
    "df_list = pd.read_csv(\"sochung_all.csv\")\n",
    "print(df_list.shape)\n",
    "df_list.head()"
   ]
  },
  {
   "cell_type": "code",
   "execution_count": 14,
   "metadata": {},
   "outputs": [
    {
     "data": {
      "text/plain": [
       "(4943, 8)"
      ]
     },
     "execution_count": 14,
     "metadata": {},
     "output_type": "execute_result"
    }
   ],
   "source": [
    "df = df_list.merge(df_detail)\n",
    "df.shape"
   ]
  },
  {
   "cell_type": "code",
   "execution_count": 15,
   "metadata": {},
   "outputs": [],
   "source": [
    "df.to_csv(\"sochung.csv\", index=False)"
   ]
  },
  {
   "cell_type": "code",
   "execution_count": 16,
   "metadata": {},
   "outputs": [
    {
     "data": {
      "text/html": [
       "<div>\n",
       "<style scoped>\n",
       "    .dataframe tbody tr th:only-of-type {\n",
       "        vertical-align: middle;\n",
       "    }\n",
       "\n",
       "    .dataframe tbody tr th {\n",
       "        vertical-align: top;\n",
       "    }\n",
       "\n",
       "    .dataframe thead th {\n",
       "        text-align: right;\n",
       "    }\n",
       "</style>\n",
       "<table border=\"1\" class=\"dataframe\">\n",
       "  <thead>\n",
       "    <tr style=\"text-align: right;\">\n",
       "      <th></th>\n",
       "      <th>번호</th>\n",
       "      <th>사건번호</th>\n",
       "      <th>원처분</th>\n",
       "      <th>비위유형</th>\n",
       "      <th>결정유형</th>\n",
       "      <th>결정일자</th>\n",
       "      <th>내용</th>\n",
       "      <th>IDX</th>\n",
       "    </tr>\n",
       "  </thead>\n",
       "  <tbody>\n",
       "    <tr>\n",
       "      <th>4938</th>\n",
       "      <td>5</td>\n",
       "      <td>19980143</td>\n",
       "      <td>감봉2월</td>\n",
       "      <td>사건묵살</td>\n",
       "      <td>기각</td>\n",
       "      <td>1998-04-24</td>\n",
       "      <td>도박사건 묵살(98-143 감봉2월→기각) 사 건 : 98-143 감봉2월 처분 취...</td>\n",
       "      <td>1197</td>\n",
       "    </tr>\n",
       "    <tr>\n",
       "      <th>4939</th>\n",
       "      <td>4</td>\n",
       "      <td>19980134</td>\n",
       "      <td>직권면직</td>\n",
       "      <td>근무태만</td>\n",
       "      <td>기각</td>\n",
       "      <td>1998-04-15</td>\n",
       "      <td>시보기간중 근무태도 불성실(98-134 면직→기각) 사 건 : 98-134 면직 처...</td>\n",
       "      <td>1196</td>\n",
       "    </tr>\n",
       "    <tr>\n",
       "      <th>4940</th>\n",
       "      <td>3</td>\n",
       "      <td>19980100</td>\n",
       "      <td>해임</td>\n",
       "      <td>지시명령위반</td>\n",
       "      <td>기각</td>\n",
       "      <td>1998-04-08</td>\n",
       "      <td>탈주범 검거 실패(98-100ㆍ101 각 해임→ 각 기각) 사 건 : 98-100ㆍ...</td>\n",
       "      <td>1195</td>\n",
       "    </tr>\n",
       "    <tr>\n",
       "      <th>4941</th>\n",
       "      <td>2</td>\n",
       "      <td>19980059</td>\n",
       "      <td>견책</td>\n",
       "      <td>근무태만</td>\n",
       "      <td>기각</td>\n",
       "      <td>1998-03-18</td>\n",
       "      <td>근무중 권총을 풀어놓고 좀(98-59 견책→기각) 사 건 : 98-59 견책 처분 ...</td>\n",
       "      <td>1194</td>\n",
       "    </tr>\n",
       "    <tr>\n",
       "      <th>4942</th>\n",
       "      <td>1</td>\n",
       "      <td>19980001</td>\n",
       "      <td>감봉3월</td>\n",
       "      <td>직무태만(업무처리 소홀)</td>\n",
       "      <td>기각</td>\n",
       "      <td>1998-02-27</td>\n",
       "      <td>우편물 배달 소홀(98-1 감봉3월→기각) 사 건 : 98-1 감봉3월 처분 취소 ...</td>\n",
       "      <td>1193</td>\n",
       "    </tr>\n",
       "  </tbody>\n",
       "</table>\n",
       "</div>"
      ],
      "text/plain": [
       "      번호      사건번호   원처분           비위유형 결정유형        결정일자  \\\n",
       "4938   5  19980143  감봉2월           사건묵살   기각  1998-04-24   \n",
       "4939   4  19980134  직권면직           근무태만   기각  1998-04-15   \n",
       "4940   3  19980100    해임         지시명령위반   기각  1998-04-08   \n",
       "4941   2  19980059    견책           근무태만   기각  1998-03-18   \n",
       "4942   1  19980001  감봉3월  직무태만(업무처리 소홀)   기각  1998-02-27   \n",
       "\n",
       "                                                     내용   IDX  \n",
       "4938  도박사건 묵살(98-143 감봉2월→기각) 사 건 : 98-143 감봉2월 처분 취...  1197  \n",
       "4939  시보기간중 근무태도 불성실(98-134 면직→기각) 사 건 : 98-134 면직 처...  1196  \n",
       "4940  탈주범 검거 실패(98-100ㆍ101 각 해임→ 각 기각) 사 건 : 98-100ㆍ...  1195  \n",
       "4941  근무중 권총을 풀어놓고 좀(98-59 견책→기각) 사 건 : 98-59 견책 처분 ...  1194  \n",
       "4942  우편물 배달 소홀(98-1 감봉3월→기각) 사 건 : 98-1 감봉3월 처분 취소 ...  1193  "
      ]
     },
     "execution_count": 16,
     "metadata": {},
     "output_type": "execute_result"
    }
   ],
   "source": [
    "pd.read_csv(\"sochung.csv\").tail()"
   ]
  },
  {
   "cell_type": "code",
   "execution_count": null,
   "metadata": {},
   "outputs": [],
   "source": []
  }
 ],
 "metadata": {
  "kernelspec": {
   "display_name": "Python 3",
   "language": "python",
   "name": "python3"
  },
  "language_info": {
   "codemirror_mode": {
    "name": "ipython",
    "version": 3
   },
   "file_extension": ".py",
   "mimetype": "text/x-python",
   "name": "python",
   "nbconvert_exporter": "python",
   "pygments_lexer": "ipython3",
   "version": "3.7.6"
  },
  "toc": {
   "base_numbering": 1,
   "nav_menu": {},
   "number_sections": true,
   "sideBar": true,
   "skip_h1_title": false,
   "title_cell": "Table of Contents",
   "title_sidebar": "Contents",
   "toc_cell": false,
   "toc_position": {},
   "toc_section_display": true,
   "toc_window_display": false
  },
  "varInspector": {
   "cols": {
    "lenName": 16,
    "lenType": 16,
    "lenVar": 40
   },
   "kernels_config": {
    "python": {
     "delete_cmd_postfix": "",
     "delete_cmd_prefix": "del ",
     "library": "var_list.py",
     "varRefreshCmd": "print(var_dic_list())"
    },
    "r": {
     "delete_cmd_postfix": ") ",
     "delete_cmd_prefix": "rm(",
     "library": "var_list.r",
     "varRefreshCmd": "cat(var_dic_list()) "
    }
   },
   "types_to_exclude": [
    "module",
    "function",
    "builtin_function_or_method",
    "instance",
    "_Feature"
   ],
   "window_display": false
  }
 },
 "nbformat": 4,
 "nbformat_minor": 4
}
